{
 "cells": [
  {
   "cell_type": "code",
   "execution_count": 1,
   "id": "1b044e67-1b2f-4b47-94d0-3f4471c35e38",
   "metadata": {},
   "outputs": [],
   "source": [
    "import pandas as pd\n",
    "import numpy as np\n",
    "\n",
    "import matplotlib.pyplot as plt\n",
    "\n",
    "import statsmodels\n",
    "\n",
    "from scipy import stats"
   ]
  },
  {
   "cell_type": "code",
   "execution_count": 2,
   "id": "502d5eeb-f2ad-4685-8e02-ebfaccf80a4d",
   "metadata": {},
   "outputs": [
    {
     "name": "stdout",
     "output_type": "stream",
     "text": [
      "2.0.0\n"
     ]
    }
   ],
   "source": [
    "print(np.__version__)"
   ]
  },
  {
   "cell_type": "code",
   "execution_count": 2,
   "id": "bcf3a729-22e3-41c5-8f8f-5c0b49e7b870",
   "metadata": {},
   "outputs": [],
   "source": [
    "human_height = pd.read_csv('/workspaces/codespaces-jupyter/data/SOCR-HeightWeight.csv')"
   ]
  },
  {
   "cell_type": "code",
   "execution_count": 4,
   "id": "c66fc714-fe81-440c-8e1e-e4ef4312ab74",
   "metadata": {},
   "outputs": [
    {
     "data": {
      "text/html": [
       "<div>\n",
       "<style scoped>\n",
       "    .dataframe tbody tr th:only-of-type {\n",
       "        vertical-align: middle;\n",
       "    }\n",
       "\n",
       "    .dataframe tbody tr th {\n",
       "        vertical-align: top;\n",
       "    }\n",
       "\n",
       "    .dataframe thead th {\n",
       "        text-align: right;\n",
       "    }\n",
       "</style>\n",
       "<table border=\"1\" class=\"dataframe\">\n",
       "  <thead>\n",
       "    <tr style=\"text-align: right;\">\n",
       "      <th></th>\n",
       "      <th>Index</th>\n",
       "      <th>Height(Inches)</th>\n",
       "      <th>Weight(Pounds)</th>\n",
       "    </tr>\n",
       "  </thead>\n",
       "  <tbody>\n",
       "    <tr>\n",
       "      <th>0</th>\n",
       "      <td>1</td>\n",
       "      <td>65.78331</td>\n",
       "      <td>112.9925</td>\n",
       "    </tr>\n",
       "    <tr>\n",
       "      <th>1</th>\n",
       "      <td>2</td>\n",
       "      <td>71.51521</td>\n",
       "      <td>136.4873</td>\n",
       "    </tr>\n",
       "    <tr>\n",
       "      <th>2</th>\n",
       "      <td>3</td>\n",
       "      <td>69.39874</td>\n",
       "      <td>153.0269</td>\n",
       "    </tr>\n",
       "    <tr>\n",
       "      <th>3</th>\n",
       "      <td>4</td>\n",
       "      <td>68.21660</td>\n",
       "      <td>142.3354</td>\n",
       "    </tr>\n",
       "    <tr>\n",
       "      <th>4</th>\n",
       "      <td>5</td>\n",
       "      <td>67.78781</td>\n",
       "      <td>144.2971</td>\n",
       "    </tr>\n",
       "    <tr>\n",
       "      <th>5</th>\n",
       "      <td>6</td>\n",
       "      <td>68.69784</td>\n",
       "      <td>123.3024</td>\n",
       "    </tr>\n",
       "    <tr>\n",
       "      <th>6</th>\n",
       "      <td>7</td>\n",
       "      <td>69.80204</td>\n",
       "      <td>141.4947</td>\n",
       "    </tr>\n",
       "    <tr>\n",
       "      <th>7</th>\n",
       "      <td>8</td>\n",
       "      <td>70.01472</td>\n",
       "      <td>136.4623</td>\n",
       "    </tr>\n",
       "    <tr>\n",
       "      <th>8</th>\n",
       "      <td>9</td>\n",
       "      <td>67.90265</td>\n",
       "      <td>112.3723</td>\n",
       "    </tr>\n",
       "    <tr>\n",
       "      <th>9</th>\n",
       "      <td>10</td>\n",
       "      <td>66.78236</td>\n",
       "      <td>120.6672</td>\n",
       "    </tr>\n",
       "  </tbody>\n",
       "</table>\n",
       "</div>"
      ],
      "text/plain": [
       "   Index  Height(Inches)  Weight(Pounds)\n",
       "0      1        65.78331        112.9925\n",
       "1      2        71.51521        136.4873\n",
       "2      3        69.39874        153.0269\n",
       "3      4        68.21660        142.3354\n",
       "4      5        67.78781        144.2971\n",
       "5      6        68.69784        123.3024\n",
       "6      7        69.80204        141.4947\n",
       "7      8        70.01472        136.4623\n",
       "8      9        67.90265        112.3723\n",
       "9     10        66.78236        120.6672"
      ]
     },
     "execution_count": 4,
     "metadata": {},
     "output_type": "execute_result"
    }
   ],
   "source": [
    "human_height.head(10)"
   ]
  },
  {
   "cell_type": "code",
   "execution_count": 4,
   "id": "97c7592f-8e36-4b1d-b248-1f106fd34e70",
   "metadata": {},
   "outputs": [
    {
     "data": {
      "text/plain": [
       "(25000, 3)"
      ]
     },
     "execution_count": 4,
     "metadata": {},
     "output_type": "execute_result"
    }
   ],
   "source": [
    "human_height.shape"
   ]
  },
  {
   "cell_type": "code",
   "execution_count": 12,
   "id": "020ac112-c8fc-4451-a4e8-d2799c158792",
   "metadata": {},
   "outputs": [
    {
     "data": {
      "text/plain": [
       "Index             0\n",
       "Height(Inches)    0\n",
       "Weight(Pounds)    0\n",
       "dtype: int64"
      ]
     },
     "execution_count": 12,
     "metadata": {},
     "output_type": "execute_result"
    }
   ],
   "source": [
    "human_height.isnull().sum()"
   ]
  },
  {
   "cell_type": "code",
   "execution_count": 3,
   "id": "d49b928d-2360-4cbb-a1cf-19d9168fbe00",
   "metadata": {},
   "outputs": [],
   "source": [
    "cols_to_convert = ['Height(Inches)', 'Weight(Pounds)']\n",
    "human_height[cols_to_convert] = human_height[cols_to_convert].astype(int)"
   ]
  },
  {
   "cell_type": "code",
   "execution_count": 6,
   "id": "0f3bc14a-487a-49b8-972d-eb9d8e086f36",
   "metadata": {},
   "outputs": [
    {
     "data": {
      "text/plain": [
       "np.float64(67.0)"
      ]
     },
     "execution_count": 6,
     "metadata": {},
     "output_type": "execute_result"
    }
   ],
   "source": [
    "## finding central tendancey of Series(column) \"height\"\n",
    "\n",
    "np.median(human_height['Height(Inches)'])"
   ]
  },
  {
   "cell_type": "code",
   "execution_count": 7,
   "id": "f00e6ac8-4098-4e1f-b09b-5aaf39514ef4",
   "metadata": {},
   "outputs": [
    {
     "data": {
      "text/plain": [
       "np.float64(67.49324)"
      ]
     },
     "execution_count": 7,
     "metadata": {},
     "output_type": "execute_result"
    }
   ],
   "source": [
    "## finding mean\n",
    "\n",
    "np.mean(human_height['Height(Inches)'])"
   ]
  },
  {
   "cell_type": "code",
   "execution_count": 8,
   "id": "7bca5adb-8c91-4c93-a162-1cebdeea2784",
   "metadata": {},
   "outputs": [
    {
     "data": {
      "text/plain": [
       "0    67\n",
       "Name: Height(Inches), dtype: int64"
      ]
     },
     "execution_count": 8,
     "metadata": {},
     "output_type": "execute_result"
    }
   ],
   "source": [
    "## finding mode\n",
    "mode=human_height['Height(Inches)'].mode()\n",
    "mode"
   ]
  },
  {
   "cell_type": "code",
   "execution_count": 4,
   "id": "dd3e2a98-0caa-471d-bb99-a0a8799a0153",
   "metadata": {},
   "outputs": [],
   "source": [
    "from statsmodels.stats.weightstats import DescrStatsW ## powerful tools to calculate statisitic like variance , mean , std"
   ]
  },
  {
   "cell_type": "code",
   "execution_count": 10,
   "id": "f870d569-c19b-4291-bc42-4351d2ac7c01",
   "metadata": {},
   "outputs": [
    {
     "data": {
      "text/plain": [
       "np.float64(67.49324)"
      ]
     },
     "execution_count": 10,
     "metadata": {},
     "output_type": "execute_result"
    }
   ],
   "source": [
    "height_descr = DescrStatsW(human_height['Height(Inches)'])\n",
    "height_descr.mean"
   ]
  },
  {
   "cell_type": "code",
   "execution_count": 11,
   "id": "14dfca57-4475-4ace-a7c1-98215ac5c588",
   "metadata": {},
   "outputs": [
    {
     "data": {
      "text/plain": [
       "ModeResult(mode=np.int64(67), count=np.int64(5023))"
      ]
     },
     "execution_count": 11,
     "metadata": {},
     "output_type": "execute_result"
    }
   ],
   "source": [
    "stats.mode(human_height['Height(Inches)'])"
   ]
  },
  {
   "cell_type": "code",
   "execution_count": 18,
   "id": "cd3a9133-7f05-42ae-b204-582157b4a7a2",
   "metadata": {},
   "outputs": [
    {
     "data": {
      "text/plain": [
       "(np.int64(60), np.int64(75))"
      ]
     },
     "execution_count": 18,
     "metadata": {},
     "output_type": "execute_result"
    }
   ],
   "source": [
    "min = np.min(human_height['Height(Inches)'])\n",
    "max = np.max(human_height['Height(Inches)'])\n",
    "min, max"
   ]
  },
  {
   "cell_type": "code",
   "execution_count": 17,
   "id": "22ece881-65bf-4350-b3b9-d1171780d7c0",
   "metadata": {},
   "outputs": [
    {
     "data": {
      "text/plain": [
       "np.int64(15)"
      ]
     },
     "execution_count": 17,
     "metadata": {},
     "output_type": "execute_result"
    }
   ],
   "source": [
    "range_height = np.ptp(human_height['Height(Inches)']) ## calcuate range\n",
    "range_height"
   ]
  },
  {
   "cell_type": "code",
   "execution_count": 19,
   "id": "3426b726-751d-47f8-8742-fc1e4cbe3618",
   "metadata": {},
   "outputs": [
    {
     "data": {
      "text/plain": [
       "np.int64(15)"
      ]
     },
     "execution_count": 19,
     "metadata": {},
     "output_type": "execute_result"
    }
   ],
   "source": [
    "max-min"
   ]
  },
  {
   "cell_type": "code",
   "execution_count": 24,
   "id": "c4faaf88-0037-4d86-a93b-f93f4356ef76",
   "metadata": {},
   "outputs": [],
   "source": [
    "q1 = np.percentile(human_height['Height(Inches)'],25,interpolation='lower')"
   ]
  },
  {
   "cell_type": "code",
   "execution_count": 26,
   "id": "54237165-0965-4817-9e22-a5c5112b2732",
   "metadata": {},
   "outputs": [
    {
     "data": {
      "text/plain": [
       "np.int64(66)"
      ]
     },
     "execution_count": 26,
     "metadata": {},
     "output_type": "execute_result"
    }
   ],
   "source": [
    "q1"
   ]
  },
  {
   "cell_type": "code",
   "execution_count": 27,
   "id": "3fe91c59-6ddb-46ac-a745-192f2ba664f3",
   "metadata": {},
   "outputs": [
    {
     "data": {
      "text/plain": [
       "np.float64(66.0)"
      ]
     },
     "execution_count": 27,
     "metadata": {},
     "output_type": "execute_result"
    }
   ],
   "source": [
    "human_height['Height(Inches)'].quantile(0.25)"
   ]
  },
  {
   "cell_type": "code",
   "execution_count": 17,
   "id": "45986f54-ab62-4b00-b3fc-6f206a8066d6",
   "metadata": {},
   "outputs": [],
   "source": [
    "q3 = np.percentile(human_height['Height(Inches)'],75,interpolation='lower')"
   ]
  },
  {
   "cell_type": "code",
   "execution_count": 18,
   "id": "9714abe1-c624-43da-81f1-f4c9c5b7aaca",
   "metadata": {},
   "outputs": [
    {
     "data": {
      "text/plain": [
       "np.int64(69)"
      ]
     },
     "execution_count": 18,
     "metadata": {},
     "output_type": "execute_result"
    }
   ],
   "source": [
    "q3"
   ]
  },
  {
   "cell_type": "code",
   "execution_count": 19,
   "id": "d5410705-dd28-409d-8f35-635f65a476b3",
   "metadata": {},
   "outputs": [
    {
     "data": {
      "text/plain": [
       "np.float64(3.0)"
      ]
     },
     "execution_count": 19,
     "metadata": {},
     "output_type": "execute_result"
    }
   ],
   "source": [
    "## difference between 25% and 75%\n",
    "stats.iqr(human_height['Height(Inches)'])"
   ]
  },
  {
   "cell_type": "code",
   "execution_count": 20,
   "id": "95737272-bbdc-4faa-8a8d-bcada1177ecc",
   "metadata": {},
   "outputs": [
    {
     "data": {
      "text/plain": [
       "np.float64(3.7005943024000003)"
      ]
     },
     "execution_count": 20,
     "metadata": {},
     "output_type": "execute_result"
    }
   ],
   "source": [
    "variance_height = np.var(human_height['Height(Inches)'])\n",
    "variance_height"
   ]
  },
  {
   "cell_type": "code",
   "execution_count": 24,
   "id": "3950b7f0-0d7e-41ec-8980-43bdf7c8a467",
   "metadata": {},
   "outputs": [
    {
     "data": {
      "text/plain": [
       "np.float64(3.700594302399993)"
      ]
     },
     "execution_count": 24,
     "metadata": {},
     "output_type": "execute_result"
    }
   ],
   "source": [
    "height_descr.var"
   ]
  },
  {
   "cell_type": "code",
   "execution_count": 26,
   "id": "fd157262-6292-4495-8e38-12324e997544",
   "metadata": {},
   "outputs": [
    {
     "data": {
      "text/plain": [
       "np.float64(1.9236928815172136)"
      ]
     },
     "execution_count": 26,
     "metadata": {},
     "output_type": "execute_result"
    }
   ],
   "source": [
    "height_std_deviation = np.std(human_height['Height(Inches)'])\n",
    "height_std_deviation"
   ]
  },
  {
   "cell_type": "code",
   "execution_count": 27,
   "id": "608b8745-e2b1-48c4-86b5-56cad7c4bdd4",
   "metadata": {},
   "outputs": [
    {
     "data": {
      "text/plain": [
       "np.float64(1.9236928815172116)"
      ]
     },
     "execution_count": 27,
     "metadata": {},
     "output_type": "execute_result"
    }
   ],
   "source": [
    "height_descr.std"
   ]
  },
  {
   "cell_type": "code",
   "execution_count": 28,
   "id": "628e2ab8-f857-400e-815d-2182f2dee84e",
   "metadata": {},
   "outputs": [
    {
     "data": {
      "text/plain": [
       "np.float64(1.9236928815172116)"
      ]
     },
     "execution_count": 28,
     "metadata": {},
     "output_type": "execute_result"
    }
   ],
   "source": [
    "np.sqrt(height_descr.var)"
   ]
  },
  {
   "cell_type": "code",
   "execution_count": 12,
   "id": "3699eea6-8dc6-44a8-914f-5b6599e8b800",
   "metadata": {},
   "outputs": [
    {
     "data": {
      "text/plain": [
       "np.float64(-0.006265324955731888)"
      ]
     },
     "execution_count": 12,
     "metadata": {},
     "output_type": "execute_result"
    }
   ],
   "source": [
    "stats.skew(human_height['Height(Inches)']) # symmetric distribiton"
   ]
  },
  {
   "cell_type": "code",
   "execution_count": 6,
   "id": "e328302f-e0b1-4aa5-a7c5-85ffab62dbc3",
   "metadata": {},
   "outputs": [
    {
     "name": "stdout",
     "output_type": "stream",
     "text": [
      "Requirement already satisfied: stattools in /usr/local/python/3.10.13/lib/python3.10/site-packages (0.0.4)\n",
      "Requirement already satisfied: numpy in /home/codespace/.local/lib/python3.10/site-packages (from stattools) (2.0.0)\n",
      "Requirement already satisfied: scipy in /home/codespace/.local/lib/python3.10/site-packages (from stattools) (1.14.0)\n",
      "Requirement already satisfied: pandas in /home/codespace/.local/lib/python3.10/site-packages (from stattools) (2.2.2)\n",
      "Requirement already satisfied: matplotlib in /usr/local/python/3.10.13/lib/python3.10/site-packages (from stattools) (3.8.4)\n",
      "Requirement already satisfied: contourpy>=1.0.1 in /home/codespace/.local/lib/python3.10/site-packages (from matplotlib->stattools) (1.2.1)\n",
      "Requirement already satisfied: cycler>=0.10 in /home/codespace/.local/lib/python3.10/site-packages (from matplotlib->stattools) (0.12.1)\n",
      "Requirement already satisfied: fonttools>=4.22.0 in /home/codespace/.local/lib/python3.10/site-packages (from matplotlib->stattools) (4.53.1)\n",
      "Requirement already satisfied: kiwisolver>=1.3.1 in /home/codespace/.local/lib/python3.10/site-packages (from matplotlib->stattools) (1.4.5)\n",
      "Requirement already satisfied: packaging>=20.0 in /home/codespace/.local/lib/python3.10/site-packages (from matplotlib->stattools) (24.1)\n",
      "Requirement already satisfied: pillow>=8 in /home/codespace/.local/lib/python3.10/site-packages (from matplotlib->stattools) (10.4.0)\n",
      "Requirement already satisfied: pyparsing>=2.3.1 in /home/codespace/.local/lib/python3.10/site-packages (from matplotlib->stattools) (3.1.2)\n",
      "Requirement already satisfied: python-dateutil>=2.7 in /home/codespace/.local/lib/python3.10/site-packages (from matplotlib->stattools) (2.9.0.post0)\n",
      "Requirement already satisfied: pytz>=2020.1 in /home/codespace/.local/lib/python3.10/site-packages (from pandas->stattools) (2024.1)\n",
      "Requirement already satisfied: tzdata>=2022.7 in /home/codespace/.local/lib/python3.10/site-packages (from pandas->stattools) (2024.1)\n",
      "Requirement already satisfied: six>=1.5 in /home/codespace/.local/lib/python3.10/site-packages (from python-dateutil>=2.7->matplotlib->stattools) (1.16.0)\n"
     ]
    }
   ],
   "source": [
    "!pip install stattools"
   ]
  },
  {
   "cell_type": "code",
   "execution_count": 9,
   "id": "472d43c4-55b3-4934-ae30-8dc7c8c4953d",
   "metadata": {},
   "outputs": [],
   "source": [
    "from statsmodels.stats import stattools"
   ]
  },
  {
   "cell_type": "code",
   "execution_count": 10,
   "id": "4bc256bf-7d2e-49cc-bc69-d8f329f1c1cf",
   "metadata": {},
   "outputs": [
    {
     "data": {
      "text/plain": [
       "(np.float64(-0.006265324955731964),\n",
       " np.float64(0.3333333333333333),\n",
       " np.float64(0.31781746952241047),\n",
       " np.float64(0.25640267463639127))"
      ]
     },
     "execution_count": 10,
     "metadata": {},
     "output_type": "execute_result"
    }
   ],
   "source": [
    "stattools.robust_skewness(human_height['Height(Inches)'])\n",
    "## points forward to positive means the line leans into right\n",
    "## points forward to negative means the line leans into left\n",
    "## points at 0 means normal distribution"
   ]
  },
  {
   "cell_type": "code",
   "execution_count": 11,
   "id": "95cbd249-2a91-4891-9052-64b3ef853867",
   "metadata": {},
   "outputs": [
    {
     "data": {
      "text/plain": [
       "np.float64(-0.022513968750792035)"
      ]
     },
     "execution_count": 11,
     "metadata": {},
     "output_type": "execute_result"
    }
   ],
   "source": [
    "stats.kurtosis(human_height['Height(Inches)']) \n",
    "## describes the shape of a distribution's tails in relation to its overall shape, \n",
    "specifically focusing on how outlier-prone a distribution is compared to a normal distribution.\n",
    "High kurtosis indicates a distribution with heavy tails and possibly more outliers,\n",
    "while low kurtosis indicates a distribution with lighter tails and fewer outliers"
   ]
  },
  {
   "cell_type": "code",
   "execution_count": null,
   "id": "2f223307-77aa-488f-86e8-cdff863a2205",
   "metadata": {},
   "outputs": [],
   "source": []
  }
 ],
 "metadata": {
  "kernelspec": {
   "display_name": "Python 3 (ipykernel)",
   "language": "python",
   "name": "python3"
  },
  "language_info": {
   "codemirror_mode": {
    "name": "ipython",
    "version": 3
   },
   "file_extension": ".py",
   "mimetype": "text/x-python",
   "name": "python",
   "nbconvert_exporter": "python",
   "pygments_lexer": "ipython3",
   "version": "3.10.13"
  }
 },
 "nbformat": 4,
 "nbformat_minor": 5
}
