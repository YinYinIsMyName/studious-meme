{
 "cells": [
  {
   "cell_type": "code",
   "execution_count": 1,
   "id": "3cabfd33-79c8-41c5-95de-ddec439d5c12",
   "metadata": {},
   "outputs": [],
   "source": [
    "import pandas as pd\n",
    "import numpy as np"
   ]
  },
  {
   "cell_type": "code",
   "execution_count": 2,
   "id": "a110a824-d70b-42ee-a3a6-198419830544",
   "metadata": {},
   "outputs": [],
   "source": [
    "brain_data = pd.read_csv('/workspaces/codespaces-jupyter/data/brain.csv')"
   ]
  },
  {
   "cell_type": "code",
   "execution_count": 3,
   "id": "a0bcaa55-bdbd-440e-b392-c81a7e8d7e60",
   "metadata": {},
   "outputs": [
    {
     "data": {
      "text/html": [
       "<div>\n",
       "<style scoped>\n",
       "    .dataframe tbody tr th:only-of-type {\n",
       "        vertical-align: middle;\n",
       "    }\n",
       "\n",
       "    .dataframe tbody tr th {\n",
       "        vertical-align: top;\n",
       "    }\n",
       "\n",
       "    .dataframe thead th {\n",
       "        text-align: right;\n",
       "    }\n",
       "</style>\n",
       "<table border=\"1\" class=\"dataframe\">\n",
       "  <thead>\n",
       "    <tr style=\"text-align: right;\">\n",
       "      <th></th>\n",
       "      <th>Gender</th>\n",
       "      <th>Age Range</th>\n",
       "      <th>Head Size(cm^3)</th>\n",
       "      <th>Brain Weight(grams)</th>\n",
       "    </tr>\n",
       "  </thead>\n",
       "  <tbody>\n",
       "    <tr>\n",
       "      <th>0</th>\n",
       "      <td>1</td>\n",
       "      <td>1</td>\n",
       "      <td>4512</td>\n",
       "      <td>1530</td>\n",
       "    </tr>\n",
       "    <tr>\n",
       "      <th>1</th>\n",
       "      <td>1</td>\n",
       "      <td>1</td>\n",
       "      <td>3738</td>\n",
       "      <td>1297</td>\n",
       "    </tr>\n",
       "    <tr>\n",
       "      <th>2</th>\n",
       "      <td>1</td>\n",
       "      <td>1</td>\n",
       "      <td>4261</td>\n",
       "      <td>1335</td>\n",
       "    </tr>\n",
       "    <tr>\n",
       "      <th>3</th>\n",
       "      <td>1</td>\n",
       "      <td>1</td>\n",
       "      <td>3777</td>\n",
       "      <td>1282</td>\n",
       "    </tr>\n",
       "    <tr>\n",
       "      <th>4</th>\n",
       "      <td>1</td>\n",
       "      <td>1</td>\n",
       "      <td>4177</td>\n",
       "      <td>1590</td>\n",
       "    </tr>\n",
       "    <tr>\n",
       "      <th>5</th>\n",
       "      <td>1</td>\n",
       "      <td>1</td>\n",
       "      <td>3585</td>\n",
       "      <td>1300</td>\n",
       "    </tr>\n",
       "    <tr>\n",
       "      <th>6</th>\n",
       "      <td>1</td>\n",
       "      <td>1</td>\n",
       "      <td>3785</td>\n",
       "      <td>1400</td>\n",
       "    </tr>\n",
       "    <tr>\n",
       "      <th>7</th>\n",
       "      <td>1</td>\n",
       "      <td>1</td>\n",
       "      <td>3559</td>\n",
       "      <td>1255</td>\n",
       "    </tr>\n",
       "    <tr>\n",
       "      <th>8</th>\n",
       "      <td>1</td>\n",
       "      <td>1</td>\n",
       "      <td>3613</td>\n",
       "      <td>1355</td>\n",
       "    </tr>\n",
       "    <tr>\n",
       "      <th>9</th>\n",
       "      <td>1</td>\n",
       "      <td>1</td>\n",
       "      <td>3982</td>\n",
       "      <td>1375</td>\n",
       "    </tr>\n",
       "  </tbody>\n",
       "</table>\n",
       "</div>"
      ],
      "text/plain": [
       "   Gender  Age Range  Head Size(cm^3)  Brain Weight(grams)\n",
       "0       1          1             4512                 1530\n",
       "1       1          1             3738                 1297\n",
       "2       1          1             4261                 1335\n",
       "3       1          1             3777                 1282\n",
       "4       1          1             4177                 1590\n",
       "5       1          1             3585                 1300\n",
       "6       1          1             3785                 1400\n",
       "7       1          1             3559                 1255\n",
       "8       1          1             3613                 1355\n",
       "9       1          1             3982                 1375"
      ]
     },
     "execution_count": 3,
     "metadata": {},
     "output_type": "execute_result"
    }
   ],
   "source": [
    "brain_data.head(10)"
   ]
  },
  {
   "cell_type": "code",
   "execution_count": 4,
   "id": "ede162a9-c481-4c6e-aaec-8ec3434c9516",
   "metadata": {},
   "outputs": [
    {
     "data": {
      "text/plain": [
       "(237, 4)"
      ]
     },
     "execution_count": 4,
     "metadata": {},
     "output_type": "execute_result"
    }
   ],
   "source": [
    "brain_data.shape"
   ]
  },
  {
   "cell_type": "code",
   "execution_count": 3,
   "id": "6cf7b4d8-bad5-4f2d-8147-446feb8e9072",
   "metadata": {},
   "outputs": [
    {
     "data": {
      "text/plain": [
       "236"
      ]
     },
     "execution_count": 3,
     "metadata": {},
     "output_type": "execute_result"
    }
   ],
   "source": [
    "brain_data.index.to_list()[-1]"
   ]
  },
  {
   "cell_type": "code",
   "execution_count": 5,
   "id": "b21acf63-e4b0-42e4-b8ef-e819708fb71c",
   "metadata": {},
   "outputs": [
    {
     "data": {
      "text/plain": [
       "861256"
      ]
     },
     "execution_count": 5,
     "metadata": {},
     "output_type": "execute_result"
    }
   ],
   "source": [
    "total_headsize = sum(brain_data['Head Size(cm^3)'])\n",
    "total_headsize"
   ]
  },
  {
   "cell_type": "code",
   "execution_count": 6,
   "id": "bd616d58-9531-4e5f-9296-3a6ac1b60632",
   "metadata": {},
   "outputs": [
    {
     "data": {
      "text/plain": [
       "237"
      ]
     },
     "execution_count": 6,
     "metadata": {},
     "output_type": "execute_result"
    }
   ],
   "source": [
    "num_headsize = len(brain_data['Head Size(cm^3)'])\n",
    "num_headsize"
   ]
  },
  {
   "cell_type": "code",
   "execution_count": 7,
   "id": "8daeffd7-c758-45ef-a62f-c9e6027014ef",
   "metadata": {},
   "outputs": [
    {
     "data": {
      "text/plain": [
       "3633.9915611814345"
      ]
     },
     "execution_count": 7,
     "metadata": {},
     "output_type": "execute_result"
    }
   ],
   "source": [
    "mean_headsize = sum(brain_data['Head Size(cm^3)'])/len(brain_data['Head Size(cm^3)'])\n",
    "mean_headsize"
   ]
  },
  {
   "cell_type": "code",
   "execution_count": 8,
   "id": "11f84991-4fb1-47ee-98fc-9d142f5c9cca",
   "metadata": {},
   "outputs": [
    {
     "data": {
      "text/plain": [
       "1282.873417721519"
      ]
     },
     "execution_count": 8,
     "metadata": {},
     "output_type": "execute_result"
    }
   ],
   "source": [
    "mean_brainweight = sum(brain_data['Brain Weight(grams)'])/len(brain_data['Brain Weight(grams)'])\n",
    "mean_brainweight"
   ]
  },
  {
   "cell_type": "code",
   "execution_count": 13,
   "id": "ba60ae41-0519-4f60-915b-0256b46eb4bf",
   "metadata": {},
   "outputs": [
    {
     "data": {
      "text/html": [
       "<div>\n",
       "<style scoped>\n",
       "    .dataframe tbody tr th:only-of-type {\n",
       "        vertical-align: middle;\n",
       "    }\n",
       "\n",
       "    .dataframe tbody tr th {\n",
       "        vertical-align: top;\n",
       "    }\n",
       "\n",
       "    .dataframe thead th {\n",
       "        text-align: right;\n",
       "    }\n",
       "</style>\n",
       "<table border=\"1\" class=\"dataframe\">\n",
       "  <thead>\n",
       "    <tr style=\"text-align: right;\">\n",
       "      <th></th>\n",
       "      <th>Gender</th>\n",
       "      <th>Age Range</th>\n",
       "      <th>Head Size(cm^3)</th>\n",
       "      <th>Brain Weight(grams)</th>\n",
       "    </tr>\n",
       "  </thead>\n",
       "  <tbody>\n",
       "    <tr>\n",
       "      <th>count</th>\n",
       "      <td>237.000000</td>\n",
       "      <td>237.000000</td>\n",
       "      <td>237.000000</td>\n",
       "      <td>237.000000</td>\n",
       "    </tr>\n",
       "    <tr>\n",
       "      <th>mean</th>\n",
       "      <td>1.434599</td>\n",
       "      <td>1.535865</td>\n",
       "      <td>3633.991561</td>\n",
       "      <td>1282.873418</td>\n",
       "    </tr>\n",
       "    <tr>\n",
       "      <th>std</th>\n",
       "      <td>0.496753</td>\n",
       "      <td>0.499768</td>\n",
       "      <td>365.261422</td>\n",
       "      <td>120.340446</td>\n",
       "    </tr>\n",
       "    <tr>\n",
       "      <th>min</th>\n",
       "      <td>1.000000</td>\n",
       "      <td>1.000000</td>\n",
       "      <td>2720.000000</td>\n",
       "      <td>955.000000</td>\n",
       "    </tr>\n",
       "    <tr>\n",
       "      <th>25%</th>\n",
       "      <td>1.000000</td>\n",
       "      <td>1.000000</td>\n",
       "      <td>3389.000000</td>\n",
       "      <td>1207.000000</td>\n",
       "    </tr>\n",
       "    <tr>\n",
       "      <th>50%</th>\n",
       "      <td>1.000000</td>\n",
       "      <td>2.000000</td>\n",
       "      <td>3614.000000</td>\n",
       "      <td>1280.000000</td>\n",
       "    </tr>\n",
       "    <tr>\n",
       "      <th>75%</th>\n",
       "      <td>2.000000</td>\n",
       "      <td>2.000000</td>\n",
       "      <td>3876.000000</td>\n",
       "      <td>1350.000000</td>\n",
       "    </tr>\n",
       "    <tr>\n",
       "      <th>max</th>\n",
       "      <td>2.000000</td>\n",
       "      <td>2.000000</td>\n",
       "      <td>4747.000000</td>\n",
       "      <td>1635.000000</td>\n",
       "    </tr>\n",
       "  </tbody>\n",
       "</table>\n",
       "</div>"
      ],
      "text/plain": [
       "           Gender   Age Range  Head Size(cm^3)  Brain Weight(grams)\n",
       "count  237.000000  237.000000       237.000000           237.000000\n",
       "mean     1.434599    1.535865      3633.991561          1282.873418\n",
       "std      0.496753    0.499768       365.261422           120.340446\n",
       "min      1.000000    1.000000      2720.000000           955.000000\n",
       "25%      1.000000    1.000000      3389.000000          1207.000000\n",
       "50%      1.000000    2.000000      3614.000000          1280.000000\n",
       "75%      2.000000    2.000000      3876.000000          1350.000000\n",
       "max      2.000000    2.000000      4747.000000          1635.000000"
      ]
     },
     "execution_count": 13,
     "metadata": {},
     "output_type": "execute_result"
    }
   ],
   "source": [
    "brain_data.describe()"
   ]
  },
  {
   "cell_type": "code",
   "execution_count": 14,
   "id": "2ffe4c63-c277-4bbe-a41c-84b5afab8b51",
   "metadata": {},
   "outputs": [
    {
     "data": {
      "text/plain": [
       "Gender                 int64\n",
       "Age Range              int64\n",
       "Head Size(cm^3)        int64\n",
       "Brain Weight(grams)    int64\n",
       "dtype: object"
      ]
     },
     "execution_count": 14,
     "metadata": {},
     "output_type": "execute_result"
    }
   ],
   "source": [
    "brain_data.dtypes"
   ]
  },
  {
   "cell_type": "code",
   "execution_count": 9,
   "id": "f355bfc5-507c-4da9-8fb1-e072e8845988",
   "metadata": {},
   "outputs": [
    {
     "data": {
      "text/plain": [
       "[2720, 2773, 2857, 2864, 2937, 2939, 2989, 3000, 3058, 3067]"
      ]
     },
     "execution_count": 9,
     "metadata": {},
     "output_type": "execute_result"
    }
   ],
   "source": [
    "sorted_headsize = sorted(brain_data['Head Size(cm^3)'])\n",
    "sorted_headsize[0:10]"
   ]
  },
  {
   "cell_type": "code",
   "execution_count": 10,
   "id": "a0bd52f5-02f5-4bad-bdeb-052baa45877a",
   "metadata": {},
   "outputs": [
    {
     "data": {
      "text/plain": [
       "119"
      ]
     },
     "execution_count": 10,
     "metadata": {},
     "output_type": "execute_result"
    }
   ],
   "source": [
    "middle_index = int((num_headsize+1)/2)\n",
    "middle_index"
   ]
  },
  {
   "cell_type": "code",
   "execution_count": 15,
   "id": "58e35171-3122-461a-b6b1-cb5953310fa0",
   "metadata": {},
   "outputs": [
    {
     "data": {
      "text/plain": [
       "3615"
      ]
     },
     "execution_count": 15,
     "metadata": {},
     "output_type": "execute_result"
    }
   ],
   "source": [
    "median = sorted_headsize[int(middle_index)]\n",
    "median"
   ]
  },
  {
   "cell_type": "code",
   "execution_count": 17,
   "id": "9ce18156-d982-43fb-8c73-1fa5cacb1530",
   "metadata": {},
   "outputs": [
    {
     "data": {
      "text/plain": [
       "np.float64(3614.0)"
      ]
     },
     "execution_count": 17,
     "metadata": {},
     "output_type": "execute_result"
    }
   ],
   "source": [
    "##finding median value by numpy\n",
    "median=np.median(brain_data['Head Size(cm^3)'])\n",
    "median"
   ]
  },
  {
   "cell_type": "code",
   "execution_count": 19,
   "id": "dfd5b6c2-0bf7-46bb-a38a-47125ac73d2c",
   "metadata": {},
   "outputs": [
    {
     "data": {
      "text/plain": [
       "{1530: 1,\n",
       " 1297: 1,\n",
       " 1335: 3,\n",
       " 1282: 1,\n",
       " 1590: 1,\n",
       " 1300: 5,\n",
       " 1400: 3,\n",
       " 1255: 1,\n",
       " 1355: 3,\n",
       " 1375: 2,\n",
       " 1340: 4,\n",
       " 1380: 4,\n",
       " 1522: 1,\n",
       " 1208: 1,\n",
       " 1405: 3,\n",
       " 1358: 1,\n",
       " 1292: 1,\n",
       " 1357: 1,\n",
       " 1287: 1,\n",
       " 1275: 2,\n",
       " 1270: 5,\n",
       " 1635: 1,\n",
       " 1505: 1,\n",
       " 1490: 1,\n",
       " 1485: 2,\n",
       " 1310: 5,\n",
       " 1420: 1,\n",
       " 1318: 1,\n",
       " 1432: 3,\n",
       " 1364: 1,\n",
       " 1207: 1,\n",
       " 1350: 8,\n",
       " 1236: 1,\n",
       " 1250: 6,\n",
       " 1320: 3,\n",
       " 1525: 1,\n",
       " 1570: 1,\n",
       " 1422: 1,\n",
       " 1506: 1,\n",
       " 1215: 2,\n",
       " 1311: 1,\n",
       " 1224: 1,\n",
       " 1390: 2,\n",
       " 1225: 3,\n",
       " 1560: 1,\n",
       " 1330: 2,\n",
       " 1222: 1,\n",
       " 1415: 2,\n",
       " 1175: 3,\n",
       " 1470: 1,\n",
       " 1135: 1,\n",
       " 1154: 1,\n",
       " 1510: 1,\n",
       " 1468: 1,\n",
       " 1240: 4,\n",
       " 1195: 1,\n",
       " 1188: 1,\n",
       " 1252: 2,\n",
       " 1315: 1,\n",
       " 1245: 2,\n",
       " 1430: 2,\n",
       " 1279: 1,\n",
       " 1309: 1,\n",
       " 1412: 1,\n",
       " 1120: 3,\n",
       " 1220: 5,\n",
       " 1280: 5,\n",
       " 1440: 2,\n",
       " 1370: 1,\n",
       " 1192: 2,\n",
       " 1230: 1,\n",
       " 1346: 1,\n",
       " 1290: 6,\n",
       " 1165: 3,\n",
       " 1132: 1,\n",
       " 1242: 1,\n",
       " 1218: 1,\n",
       " 1588: 1,\n",
       " 1260: 2,\n",
       " 1425: 1,\n",
       " 1226: 1,\n",
       " 1360: 1,\n",
       " 1620: 1,\n",
       " 1295: 1,\n",
       " 1362: 1,\n",
       " 1173: 1,\n",
       " 1256: 1,\n",
       " 1180: 4,\n",
       " 1306: 2,\n",
       " 1125: 1,\n",
       " 1312: 1,\n",
       " 1450: 1,\n",
       " 1027: 1,\n",
       " 1235: 3,\n",
       " 1080: 1,\n",
       " 1127: 2,\n",
       " 1200: 1,\n",
       " 1334: 1,\n",
       " 1140: 1,\n",
       " 1243: 2,\n",
       " 1168: 1,\n",
       " 1322: 1,\n",
       " 1249: 1,\n",
       " 1321: 1,\n",
       " 1373: 1,\n",
       " 1170: 2,\n",
       " 1265: 1,\n",
       " 1302: 1,\n",
       " 1241: 1,\n",
       " 1078: 1,\n",
       " 1520: 1,\n",
       " 1460: 1,\n",
       " 1075: 1,\n",
       " 1190: 1,\n",
       " 1374: 1,\n",
       " 1202: 1,\n",
       " 1316: 1,\n",
       " 1210: 2,\n",
       " 1324: 1,\n",
       " 1100: 1,\n",
       " 1160: 1,\n",
       " 1205: 1,\n",
       " 1163: 1,\n",
       " 1022: 1,\n",
       " 1237: 1,\n",
       " 1204: 1,\n",
       " 1090: 1,\n",
       " 1076: 1,\n",
       " 1095: 1,\n",
       " 1105: 1,\n",
       " 1150: 1,\n",
       " 1305: 1,\n",
       " 1296: 1,\n",
       " 955: 1,\n",
       " 1070: 1,\n",
       " 1060: 2,\n",
       " 1130: 2,\n",
       " 1178: 1,\n",
       " 1142: 1,\n",
       " 1185: 1,\n",
       " 1012: 1,\n",
       " 1103: 1,\n",
       " 1408: 1,\n",
       " 1246: 1,\n",
       " 1110: 1,\n",
       " 1104: 1}"
      ]
     },
     "execution_count": 19,
     "metadata": {},
     "output_type": "execute_result"
    }
   ],
   "source": [
    "size_counts = {}\n",
    "for p in brain_data['Brain Weight(grams)']:\n",
    "    if p in size_counts:\n",
    "        size_counts[p]+=1\n",
    "    else:\n",
    "        size_counts[p]=1\n",
    "size_counts"
   ]
  },
  {
   "cell_type": "code",
   "execution_count": 3,
   "id": "fe967d9b-e6e1-4678-be2b-e704de3ae6e2",
   "metadata": {},
   "outputs": [
    {
     "data": {
      "text/plain": [
       "Brain Weight(grams)\n",
       "1350    8\n",
       "1250    6\n",
       "1290    6\n",
       "1270    5\n",
       "1280    5\n",
       "       ..\n",
       "1103    1\n",
       "1408    1\n",
       "1246    1\n",
       "1110    1\n",
       "1104    1\n",
       "Name: count, Length: 146, dtype: int64"
      ]
     },
     "execution_count": 3,
     "metadata": {},
     "output_type": "execute_result"
    }
   ],
   "source": [
    "headsize_count = brain_data['Brain Weight(grams)'].value_counts()\n",
    "headsize_count"
   ]
  },
  {
   "cell_type": "code",
   "execution_count": 10,
   "id": "65450a48-286f-486d-97e5-82da0384f4b1",
   "metadata": {},
   "outputs": [
    {
     "name": "stdout",
     "output_type": "stream",
     "text": [
      "Size: 1350 Frequency: 8\n"
     ]
    }
   ],
   "source": [
    "size = 0\n",
    "count = 0\n",
    "for s,c in headsize_count.items():\n",
    "    if count < c:\n",
    "        count = c\n",
    "        size = s\n",
    "print('Size:',size,'Frequency:',count)"
   ]
  },
  {
   "cell_type": "code",
   "execution_count": 14,
   "id": "42f97189-713b-4c93-8ebd-881319de960c",
   "metadata": {},
   "outputs": [
    {
     "data": {
      "text/plain": [
       "(np.int64(2720), np.int64(4747))"
      ]
     },
     "execution_count": 14,
     "metadata": {},
     "output_type": "execute_result"
    }
   ],
   "source": [
    "min_headsize = brain_data['Head Size(cm^3)'].min()\n",
    "max_headsize = brain_data['Head Size(cm^3)'].max()\n",
    "min_headsize,max_headsize"
   ]
  },
  {
   "cell_type": "code",
   "execution_count": 15,
   "id": "3b35dee8-1945-46c3-aa54-f1656c5968ec",
   "metadata": {},
   "outputs": [
    {
     "data": {
      "text/plain": [
       "np.int64(2027)"
      ]
     },
     "execution_count": 15,
     "metadata": {},
     "output_type": "execute_result"
    }
   ],
   "source": [
    "range_headsize = max_headsize-min_headsize\n",
    "range_headsize"
   ]
  }
 ],
 "metadata": {
  "kernelspec": {
   "display_name": "Python 3 (ipykernel)",
   "language": "python",
   "name": "python3"
  },
  "language_info": {
   "codemirror_mode": {
    "name": "ipython",
    "version": 3
   },
   "file_extension": ".py",
   "mimetype": "text/x-python",
   "name": "python",
   "nbconvert_exporter": "python",
   "pygments_lexer": "ipython3",
   "version": "3.10.13"
  }
 },
 "nbformat": 4,
 "nbformat_minor": 5
}
